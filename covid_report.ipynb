{
 "cells": [
  {
   "cell_type": "code",
   "execution_count": 1,
   "id": "2ae753b3-29b5-4396-aebf-1c310fb862c7",
   "metadata": {},
   "outputs": [],
   "source": [
    "import numpy as np"
   ]
  },
  {
   "cell_type": "code",
   "execution_count": 2,
   "id": "5524d002-2a56-4989-8e0e-70eea4b81b4a",
   "metadata": {},
   "outputs": [],
   "source": [
    "import pandas as pd"
   ]
  },
  {
   "cell_type": "code",
   "execution_count": 3,
   "id": "840e6d85-3e25-444a-bc59-318b7e7f11a7",
   "metadata": {},
   "outputs": [],
   "source": [
    "import matplotlib.pyplot as plt"
   ]
  },
  {
   "cell_type": "code",
   "execution_count": 4,
   "id": "f2d487c2-0dbe-4838-b26c-911b11f551a5",
   "metadata": {},
   "outputs": [],
   "source": [
    "import seaborn as sns"
   ]
  },
  {
   "cell_type": "code",
   "execution_count": 5,
   "id": "f00bf995-1409-4df5-a686-f1967d0e833c",
   "metadata": {},
   "outputs": [],
   "source": [
    "df=pd.read_csv(r\"C:\\Users\\ladwa\\Desktop\\forproj\\covid_small_dataset.csv\")"
   ]
  },
  {
   "cell_type": "code",
   "execution_count": 6,
   "id": "d5dcc612-aee0-47a5-ab39-77b2e200e44b",
   "metadata": {},
   "outputs": [
    {
     "data": {
      "text/html": [
       "<div>\n",
       "<style scoped>\n",
       "    .dataframe tbody tr th:only-of-type {\n",
       "        vertical-align: middle;\n",
       "    }\n",
       "\n",
       "    .dataframe tbody tr th {\n",
       "        vertical-align: top;\n",
       "    }\n",
       "\n",
       "    .dataframe thead th {\n",
       "        text-align: right;\n",
       "    }\n",
       "</style>\n",
       "<table border=\"1\" class=\"dataframe\">\n",
       "  <thead>\n",
       "    <tr style=\"text-align: right;\">\n",
       "      <th></th>\n",
       "      <th>location</th>\n",
       "      <th>date</th>\n",
       "      <th>total_cases</th>\n",
       "      <th>total_deaths</th>\n",
       "      <th>total_vaccinations</th>\n",
       "    </tr>\n",
       "  </thead>\n",
       "  <tbody>\n",
       "    <tr>\n",
       "      <th>0</th>\n",
       "      <td>India</td>\n",
       "      <td>2021-06-01</td>\n",
       "      <td>217724</td>\n",
       "      <td>34626</td>\n",
       "      <td>1214347</td>\n",
       "    </tr>\n",
       "    <tr>\n",
       "      <th>1</th>\n",
       "      <td>India</td>\n",
       "      <td>2021-06-02</td>\n",
       "      <td>556690</td>\n",
       "      <td>42417</td>\n",
       "      <td>907907</td>\n",
       "    </tr>\n",
       "    <tr>\n",
       "      <th>2</th>\n",
       "      <td>India</td>\n",
       "      <td>2021-06-03</td>\n",
       "      <td>451631</td>\n",
       "      <td>34383</td>\n",
       "      <td>937621</td>\n",
       "    </tr>\n",
       "    <tr>\n",
       "      <th>3</th>\n",
       "      <td>India</td>\n",
       "      <td>2021-06-04</td>\n",
       "      <td>877059</td>\n",
       "      <td>31332</td>\n",
       "      <td>1579186</td>\n",
       "    </tr>\n",
       "    <tr>\n",
       "      <th>4</th>\n",
       "      <td>India</td>\n",
       "      <td>2021-06-05</td>\n",
       "      <td>884827</td>\n",
       "      <td>45949</td>\n",
       "      <td>869094</td>\n",
       "    </tr>\n",
       "  </tbody>\n",
       "</table>\n",
       "</div>"
      ],
      "text/plain": [
       "  location        date  total_cases  total_deaths  total_vaccinations\n",
       "0    India  2021-06-01       217724         34626             1214347\n",
       "1    India  2021-06-02       556690         42417              907907\n",
       "2    India  2021-06-03       451631         34383              937621\n",
       "3    India  2021-06-04       877059         31332             1579186\n",
       "4    India  2021-06-05       884827         45949              869094"
      ]
     },
     "execution_count": 6,
     "metadata": {},
     "output_type": "execute_result"
    }
   ],
   "source": [
    "df.head()"
   ]
  },
  {
   "cell_type": "code",
   "execution_count": 7,
   "id": "f0476063-cfcf-4aab-8ad3-ecc2be9f30de",
   "metadata": {},
   "outputs": [
    {
     "data": {
      "text/plain": [
       "Index(['location', 'date', 'total_cases', 'total_deaths',\n",
       "       'total_vaccinations'],\n",
       "      dtype='object')"
      ]
     },
     "execution_count": 7,
     "metadata": {},
     "output_type": "execute_result"
    }
   ],
   "source": [
    "df.columns"
   ]
  },
  {
   "cell_type": "code",
   "execution_count": 8,
   "id": "9dd07cc3-0025-4446-b04c-d6c51c55c179",
   "metadata": {},
   "outputs": [
    {
     "data": {
      "text/plain": [
       "location\n",
       "India            40\n",
       "United States    40\n",
       "Brazil           40\n",
       "Russia           40\n",
       "Germany          40\n",
       "Name: count, dtype: int64"
      ]
     },
     "execution_count": 8,
     "metadata": {},
     "output_type": "execute_result"
    }
   ],
   "source": [
    "df[\"location\"].value_counts()"
   ]
  },
  {
   "cell_type": "code",
   "execution_count": 9,
   "id": "ceab9bc4-e3f7-4254-a1e3-15e72cc4625f",
   "metadata": {},
   "outputs": [
    {
     "data": {
      "text/plain": [
       "'1. Which countries have the most cases and deaths?\\nSub-questions:\\n\\nWhat are the top 10 countries with the most COVID-19 cases?\\n\\nWhat are the top 10 countries with the most deaths?\\n\\nWhich continent has the highest total number of cases?'"
      ]
     },
     "execution_count": 9,
     "metadata": {},
     "output_type": "execute_result"
    }
   ],
   "source": [
    "\"\"\"1. Which countries have the most cases and deaths?\n",
    "Sub-questions:\n",
    "\n",
    "What are the top 10 countries with the most COVID-19 cases?\n",
    "\n",
    "What are the top 10 countries with the most deaths?\n",
    "\n",
    "Which continent has the highest total number of cases?\"\"\"\n"
   ]
  },
  {
   "cell_type": "code",
   "execution_count": 10,
   "id": "d7039adf-96a2-491e-a74b-07040ac0029b",
   "metadata": {},
   "outputs": [
    {
     "data": {
      "text/plain": [
       "Index(['location', 'date', 'total_cases', 'total_deaths',\n",
       "       'total_vaccinations'],\n",
       "      dtype='object')"
      ]
     },
     "execution_count": 10,
     "metadata": {},
     "output_type": "execute_result"
    }
   ],
   "source": [
    "df.columns"
   ]
  },
  {
   "cell_type": "code",
   "execution_count": 12,
   "id": "59248604-6b5e-403d-9fdf-f6d015a4520b",
   "metadata": {},
   "outputs": [
    {
     "data": {
      "text/plain": [
       "location\n",
       "United States    22252753\n",
       "Brazil           21901431\n",
       "India            20451250\n",
       "Russia           18534390\n",
       "Germany          17745584\n",
       "Name: total_cases, dtype: int64"
      ]
     },
     "execution_count": 12,
     "metadata": {},
     "output_type": "execute_result"
    }
   ],
   "source": [
    "#What are the top 10 countries with the most COVID-19 cases\n",
    "df.groupby(\"location\")[\"total_cases\"].sum().sort_values(ascending=False)\n"
   ]
  },
  {
   "cell_type": "code",
   "execution_count": 14,
   "id": "dba00472-1e86-41d3-ae87-033b6d292142",
   "metadata": {},
   "outputs": [
    {
     "data": {
      "text/plain": [
       "location\n",
       "Germany          1027445\n",
       "India             981322\n",
       "Russia            939082\n",
       "Brazil            926214\n",
       "United States     919601\n",
       "Name: total_deaths, dtype: int64"
      ]
     },
     "execution_count": 14,
     "metadata": {},
     "output_type": "execute_result"
    }
   ],
   "source": [
    "#What are the top 10 countries with the most deaths\n",
    "df.groupby(\"location\")[\"total_deaths\"].sum().sort_values(ascending=False)"
   ]
  },
  {
   "cell_type": "code",
   "execution_count": 15,
   "id": "08849026-3631-49a1-85fb-4576bce3a3e7",
   "metadata": {},
   "outputs": [
    {
     "data": {
      "text/plain": [
       "location\n",
       "United States    22252753\n",
       "Name: total_cases, dtype: int64"
      ]
     },
     "execution_count": 15,
     "metadata": {},
     "output_type": "execute_result"
    }
   ],
   "source": [
    "#Which continent has the highest total number of cases?\n",
    "df.groupby(\"location\")[\"total_cases\"].sum().sort_values(ascending=False).head(1)"
   ]
  },
  {
   "cell_type": "code",
   "execution_count": null,
   "id": "9c31441f-2a4b-47df-82ae-44e4712d7e1d",
   "metadata": {},
   "outputs": [],
   "source": [
    "\"\"\"❓ 2. How did COVID-19 cases and deaths change over time?\n",
    "Sub-questions:\n",
    "\n",
    "What is the trend of new cases each day worldwide?\n",
    "\n",
    "What is the trend of new deaths each day?\n",
    "\n",
    "Were there any major peaks or waves in cases\"\"\""
   ]
  },
  {
   "cell_type": "code",
   "execution_count": 16,
   "id": "c7651efe-a511-4282-9d23-bdd44f8f022a",
   "metadata": {},
   "outputs": [],
   "source": [
    "from datetime import date"
   ]
  },
  {
   "cell_type": "code",
   "execution_count": 17,
   "id": "de1142d4-fd29-4515-a142-da76103a2207",
   "metadata": {},
   "outputs": [],
   "source": [
    "df[\"date\"]=pd.to_datetime(df[\"date\"])"
   ]
  },
  {
   "cell_type": "code",
   "execution_count": 18,
   "id": "4524e127-5118-4a96-a8e1-72146cc2cb25",
   "metadata": {},
   "outputs": [
    {
     "data": {
      "text/plain": [
       "0     2021-06-01\n",
       "1     2021-06-02\n",
       "2     2021-06-03\n",
       "3     2021-06-04\n",
       "4     2021-06-05\n",
       "         ...    \n",
       "195   2021-07-06\n",
       "196   2021-07-07\n",
       "197   2021-07-08\n",
       "198   2021-07-09\n",
       "199   2021-07-10\n",
       "Name: date, Length: 200, dtype: datetime64[ns]"
      ]
     },
     "execution_count": 18,
     "metadata": {},
     "output_type": "execute_result"
    }
   ],
   "source": [
    "df[\"date\"]"
   ]
  },
  {
   "cell_type": "code",
   "execution_count": 19,
   "id": "2786fe77-deb6-41c3-bb93-1a2668c4a7ed",
   "metadata": {},
   "outputs": [],
   "source": [
    "#What is the trend of new cases each day worldwide\n",
    "df[\"new_cases\"]=df.groupby(\"location\")[\"total_cases\"].diff()"
   ]
  },
  {
   "cell_type": "code",
   "execution_count": 20,
   "id": "fc10f602-69e6-4cee-a1ba-d0ac508bc996",
   "metadata": {},
   "outputs": [
    {
     "data": {
      "text/html": [
       "<div>\n",
       "<style scoped>\n",
       "    .dataframe tbody tr th:only-of-type {\n",
       "        vertical-align: middle;\n",
       "    }\n",
       "\n",
       "    .dataframe tbody tr th {\n",
       "        vertical-align: top;\n",
       "    }\n",
       "\n",
       "    .dataframe thead th {\n",
       "        text-align: right;\n",
       "    }\n",
       "</style>\n",
       "<table border=\"1\" class=\"dataframe\">\n",
       "  <thead>\n",
       "    <tr style=\"text-align: right;\">\n",
       "      <th></th>\n",
       "      <th>location</th>\n",
       "      <th>date</th>\n",
       "      <th>total_cases</th>\n",
       "      <th>total_deaths</th>\n",
       "      <th>total_vaccinations</th>\n",
       "      <th>new_cases</th>\n",
       "    </tr>\n",
       "  </thead>\n",
       "  <tbody>\n",
       "    <tr>\n",
       "      <th>0</th>\n",
       "      <td>India</td>\n",
       "      <td>2021-06-01</td>\n",
       "      <td>217724</td>\n",
       "      <td>34626</td>\n",
       "      <td>1214347</td>\n",
       "      <td>NaN</td>\n",
       "    </tr>\n",
       "    <tr>\n",
       "      <th>1</th>\n",
       "      <td>India</td>\n",
       "      <td>2021-06-02</td>\n",
       "      <td>556690</td>\n",
       "      <td>42417</td>\n",
       "      <td>907907</td>\n",
       "      <td>338966.0</td>\n",
       "    </tr>\n",
       "    <tr>\n",
       "      <th>2</th>\n",
       "      <td>India</td>\n",
       "      <td>2021-06-03</td>\n",
       "      <td>451631</td>\n",
       "      <td>34383</td>\n",
       "      <td>937621</td>\n",
       "      <td>-105059.0</td>\n",
       "    </tr>\n",
       "    <tr>\n",
       "      <th>3</th>\n",
       "      <td>India</td>\n",
       "      <td>2021-06-04</td>\n",
       "      <td>877059</td>\n",
       "      <td>31332</td>\n",
       "      <td>1579186</td>\n",
       "      <td>425428.0</td>\n",
       "    </tr>\n",
       "    <tr>\n",
       "      <th>4</th>\n",
       "      <td>India</td>\n",
       "      <td>2021-06-05</td>\n",
       "      <td>884827</td>\n",
       "      <td>45949</td>\n",
       "      <td>869094</td>\n",
       "      <td>7768.0</td>\n",
       "    </tr>\n",
       "    <tr>\n",
       "      <th>...</th>\n",
       "      <td>...</td>\n",
       "      <td>...</td>\n",
       "      <td>...</td>\n",
       "      <td>...</td>\n",
       "      <td>...</td>\n",
       "      <td>...</td>\n",
       "    </tr>\n",
       "    <tr>\n",
       "      <th>195</th>\n",
       "      <td>Germany</td>\n",
       "      <td>2021-07-06</td>\n",
       "      <td>945375</td>\n",
       "      <td>44151</td>\n",
       "      <td>689102</td>\n",
       "      <td>585464.0</td>\n",
       "    </tr>\n",
       "    <tr>\n",
       "      <th>196</th>\n",
       "      <td>Germany</td>\n",
       "      <td>2021-07-07</td>\n",
       "      <td>50559</td>\n",
       "      <td>11676</td>\n",
       "      <td>335376</td>\n",
       "      <td>-894816.0</td>\n",
       "    </tr>\n",
       "    <tr>\n",
       "      <th>197</th>\n",
       "      <td>Germany</td>\n",
       "      <td>2021-07-08</td>\n",
       "      <td>74987</td>\n",
       "      <td>36078</td>\n",
       "      <td>1840267</td>\n",
       "      <td>24428.0</td>\n",
       "    </tr>\n",
       "    <tr>\n",
       "      <th>198</th>\n",
       "      <td>Germany</td>\n",
       "      <td>2021-07-09</td>\n",
       "      <td>643814</td>\n",
       "      <td>35147</td>\n",
       "      <td>1688040</td>\n",
       "      <td>568827.0</td>\n",
       "    </tr>\n",
       "    <tr>\n",
       "      <th>199</th>\n",
       "      <td>Germany</td>\n",
       "      <td>2021-07-10</td>\n",
       "      <td>869804</td>\n",
       "      <td>43350</td>\n",
       "      <td>1984643</td>\n",
       "      <td>225990.0</td>\n",
       "    </tr>\n",
       "  </tbody>\n",
       "</table>\n",
       "<p>200 rows × 6 columns</p>\n",
       "</div>"
      ],
      "text/plain": [
       "    location       date  total_cases  total_deaths  total_vaccinations  \\\n",
       "0      India 2021-06-01       217724         34626             1214347   \n",
       "1      India 2021-06-02       556690         42417              907907   \n",
       "2      India 2021-06-03       451631         34383              937621   \n",
       "3      India 2021-06-04       877059         31332             1579186   \n",
       "4      India 2021-06-05       884827         45949              869094   \n",
       "..       ...        ...          ...           ...                 ...   \n",
       "195  Germany 2021-07-06       945375         44151              689102   \n",
       "196  Germany 2021-07-07        50559         11676              335376   \n",
       "197  Germany 2021-07-08        74987         36078             1840267   \n",
       "198  Germany 2021-07-09       643814         35147             1688040   \n",
       "199  Germany 2021-07-10       869804         43350             1984643   \n",
       "\n",
       "     new_cases  \n",
       "0          NaN  \n",
       "1     338966.0  \n",
       "2    -105059.0  \n",
       "3     425428.0  \n",
       "4       7768.0  \n",
       "..         ...  \n",
       "195   585464.0  \n",
       "196  -894816.0  \n",
       "197    24428.0  \n",
       "198   568827.0  \n",
       "199   225990.0  \n",
       "\n",
       "[200 rows x 6 columns]"
      ]
     },
     "execution_count": 20,
     "metadata": {},
     "output_type": "execute_result"
    }
   ],
   "source": [
    "df"
   ]
  },
  {
   "cell_type": "code",
   "execution_count": 23,
   "id": "c0d4c1b1-b336-4e60-b6bc-aac7ed77c01d",
   "metadata": {},
   "outputs": [
    {
     "data": {
      "text/html": [
       "<div>\n",
       "<style scoped>\n",
       "    .dataframe tbody tr th:only-of-type {\n",
       "        vertical-align: middle;\n",
       "    }\n",
       "\n",
       "    .dataframe tbody tr th {\n",
       "        vertical-align: top;\n",
       "    }\n",
       "\n",
       "    .dataframe thead th {\n",
       "        text-align: right;\n",
       "    }\n",
       "</style>\n",
       "<table border=\"1\" class=\"dataframe\">\n",
       "  <thead>\n",
       "    <tr style=\"text-align: right;\">\n",
       "      <th></th>\n",
       "      <th>date</th>\n",
       "      <th>new_cases</th>\n",
       "    </tr>\n",
       "  </thead>\n",
       "  <tbody>\n",
       "    <tr>\n",
       "      <th>0</th>\n",
       "      <td>2021-06-01</td>\n",
       "      <td>0.0</td>\n",
       "    </tr>\n",
       "    <tr>\n",
       "      <th>1</th>\n",
       "      <td>2021-06-02</td>\n",
       "      <td>664925.0</td>\n",
       "    </tr>\n",
       "    <tr>\n",
       "      <th>2</th>\n",
       "      <td>2021-06-03</td>\n",
       "      <td>332323.0</td>\n",
       "    </tr>\n",
       "    <tr>\n",
       "      <th>3</th>\n",
       "      <td>2021-06-04</td>\n",
       "      <td>-288229.0</td>\n",
       "    </tr>\n",
       "    <tr>\n",
       "      <th>4</th>\n",
       "      <td>2021-06-05</td>\n",
       "      <td>390248.0</td>\n",
       "    </tr>\n",
       "    <tr>\n",
       "      <th>5</th>\n",
       "      <td>2021-06-06</td>\n",
       "      <td>-310885.0</td>\n",
       "    </tr>\n",
       "    <tr>\n",
       "      <th>6</th>\n",
       "      <td>2021-06-07</td>\n",
       "      <td>272631.0</td>\n",
       "    </tr>\n",
       "    <tr>\n",
       "      <th>7</th>\n",
       "      <td>2021-06-08</td>\n",
       "      <td>684822.0</td>\n",
       "    </tr>\n",
       "    <tr>\n",
       "      <th>8</th>\n",
       "      <td>2021-06-09</td>\n",
       "      <td>-206691.0</td>\n",
       "    </tr>\n",
       "    <tr>\n",
       "      <th>9</th>\n",
       "      <td>2021-06-10</td>\n",
       "      <td>-985613.0</td>\n",
       "    </tr>\n",
       "    <tr>\n",
       "      <th>10</th>\n",
       "      <td>2021-06-11</td>\n",
       "      <td>386479.0</td>\n",
       "    </tr>\n",
       "    <tr>\n",
       "      <th>11</th>\n",
       "      <td>2021-06-12</td>\n",
       "      <td>42534.0</td>\n",
       "    </tr>\n",
       "    <tr>\n",
       "      <th>12</th>\n",
       "      <td>2021-06-13</td>\n",
       "      <td>-509268.0</td>\n",
       "    </tr>\n",
       "    <tr>\n",
       "      <th>13</th>\n",
       "      <td>2021-06-14</td>\n",
       "      <td>1961141.0</td>\n",
       "    </tr>\n",
       "    <tr>\n",
       "      <th>14</th>\n",
       "      <td>2021-06-15</td>\n",
       "      <td>-1556714.0</td>\n",
       "    </tr>\n",
       "    <tr>\n",
       "      <th>15</th>\n",
       "      <td>2021-06-16</td>\n",
       "      <td>264724.0</td>\n",
       "    </tr>\n",
       "    <tr>\n",
       "      <th>16</th>\n",
       "      <td>2021-06-17</td>\n",
       "      <td>238690.0</td>\n",
       "    </tr>\n",
       "    <tr>\n",
       "      <th>17</th>\n",
       "      <td>2021-06-18</td>\n",
       "      <td>-192536.0</td>\n",
       "    </tr>\n",
       "    <tr>\n",
       "      <th>18</th>\n",
       "      <td>2021-06-19</td>\n",
       "      <td>-440955.0</td>\n",
       "    </tr>\n",
       "    <tr>\n",
       "      <th>19</th>\n",
       "      <td>2021-06-20</td>\n",
       "      <td>471989.0</td>\n",
       "    </tr>\n",
       "    <tr>\n",
       "      <th>20</th>\n",
       "      <td>2021-06-21</td>\n",
       "      <td>274432.0</td>\n",
       "    </tr>\n",
       "    <tr>\n",
       "      <th>21</th>\n",
       "      <td>2021-06-22</td>\n",
       "      <td>-397196.0</td>\n",
       "    </tr>\n",
       "    <tr>\n",
       "      <th>22</th>\n",
       "      <td>2021-06-23</td>\n",
       "      <td>151667.0</td>\n",
       "    </tr>\n",
       "    <tr>\n",
       "      <th>23</th>\n",
       "      <td>2021-06-24</td>\n",
       "      <td>-863054.0</td>\n",
       "    </tr>\n",
       "    <tr>\n",
       "      <th>24</th>\n",
       "      <td>2021-06-25</td>\n",
       "      <td>1728501.0</td>\n",
       "    </tr>\n",
       "    <tr>\n",
       "      <th>25</th>\n",
       "      <td>2021-06-26</td>\n",
       "      <td>-500100.0</td>\n",
       "    </tr>\n",
       "    <tr>\n",
       "      <th>26</th>\n",
       "      <td>2021-06-27</td>\n",
       "      <td>-614584.0</td>\n",
       "    </tr>\n",
       "    <tr>\n",
       "      <th>27</th>\n",
       "      <td>2021-06-28</td>\n",
       "      <td>-252986.0</td>\n",
       "    </tr>\n",
       "    <tr>\n",
       "      <th>28</th>\n",
       "      <td>2021-06-29</td>\n",
       "      <td>1339229.0</td>\n",
       "    </tr>\n",
       "    <tr>\n",
       "      <th>29</th>\n",
       "      <td>2021-06-30</td>\n",
       "      <td>-245124.0</td>\n",
       "    </tr>\n",
       "    <tr>\n",
       "      <th>30</th>\n",
       "      <td>2021-07-01</td>\n",
       "      <td>-487012.0</td>\n",
       "    </tr>\n",
       "    <tr>\n",
       "      <th>31</th>\n",
       "      <td>2021-07-02</td>\n",
       "      <td>60096.0</td>\n",
       "    </tr>\n",
       "    <tr>\n",
       "      <th>32</th>\n",
       "      <td>2021-07-03</td>\n",
       "      <td>592458.0</td>\n",
       "    </tr>\n",
       "    <tr>\n",
       "      <th>33</th>\n",
       "      <td>2021-07-04</td>\n",
       "      <td>-848150.0</td>\n",
       "    </tr>\n",
       "    <tr>\n",
       "      <th>34</th>\n",
       "      <td>2021-07-05</td>\n",
       "      <td>189219.0</td>\n",
       "    </tr>\n",
       "    <tr>\n",
       "      <th>35</th>\n",
       "      <td>2021-07-06</td>\n",
       "      <td>260977.0</td>\n",
       "    </tr>\n",
       "    <tr>\n",
       "      <th>36</th>\n",
       "      <td>2021-07-07</td>\n",
       "      <td>-820439.0</td>\n",
       "    </tr>\n",
       "    <tr>\n",
       "      <th>37</th>\n",
       "      <td>2021-07-08</td>\n",
       "      <td>-469479.0</td>\n",
       "    </tr>\n",
       "    <tr>\n",
       "      <th>38</th>\n",
       "      <td>2021-07-09</td>\n",
       "      <td>1787425.0</td>\n",
       "    </tr>\n",
       "    <tr>\n",
       "      <th>39</th>\n",
       "      <td>2021-07-10</td>\n",
       "      <td>-1298656.0</td>\n",
       "    </tr>\n",
       "  </tbody>\n",
       "</table>\n",
       "</div>"
      ],
      "text/plain": [
       "         date  new_cases\n",
       "0  2021-06-01        0.0\n",
       "1  2021-06-02   664925.0\n",
       "2  2021-06-03   332323.0\n",
       "3  2021-06-04  -288229.0\n",
       "4  2021-06-05   390248.0\n",
       "5  2021-06-06  -310885.0\n",
       "6  2021-06-07   272631.0\n",
       "7  2021-06-08   684822.0\n",
       "8  2021-06-09  -206691.0\n",
       "9  2021-06-10  -985613.0\n",
       "10 2021-06-11   386479.0\n",
       "11 2021-06-12    42534.0\n",
       "12 2021-06-13  -509268.0\n",
       "13 2021-06-14  1961141.0\n",
       "14 2021-06-15 -1556714.0\n",
       "15 2021-06-16   264724.0\n",
       "16 2021-06-17   238690.0\n",
       "17 2021-06-18  -192536.0\n",
       "18 2021-06-19  -440955.0\n",
       "19 2021-06-20   471989.0\n",
       "20 2021-06-21   274432.0\n",
       "21 2021-06-22  -397196.0\n",
       "22 2021-06-23   151667.0\n",
       "23 2021-06-24  -863054.0\n",
       "24 2021-06-25  1728501.0\n",
       "25 2021-06-26  -500100.0\n",
       "26 2021-06-27  -614584.0\n",
       "27 2021-06-28  -252986.0\n",
       "28 2021-06-29  1339229.0\n",
       "29 2021-06-30  -245124.0\n",
       "30 2021-07-01  -487012.0\n",
       "31 2021-07-02    60096.0\n",
       "32 2021-07-03   592458.0\n",
       "33 2021-07-04  -848150.0\n",
       "34 2021-07-05   189219.0\n",
       "35 2021-07-06   260977.0\n",
       "36 2021-07-07  -820439.0\n",
       "37 2021-07-08  -469479.0\n",
       "38 2021-07-09  1787425.0\n",
       "39 2021-07-10 -1298656.0"
      ]
     },
     "execution_count": 23,
     "metadata": {},
     "output_type": "execute_result"
    }
   ],
   "source": [
    "new_c=df.groupby(\"date\")[\"new_cases\"].sum().reset_index()\n",
    "new_c"
   ]
  },
  {
   "cell_type": "code",
   "execution_count": 24,
   "id": "cf218ffe-ce10-48a0-96a3-32c0acbf636f",
   "metadata": {},
   "outputs": [
    {
     "data": {
      "image/png": "[encoded data removed]",
      "text/plain": [
       "<Figure size 640x480 with 1 Axes>"
      ]
     },
     "metadata": {},
     "output_type": "display_data"
    }
   ],
   "source": [
    "plt.plot(new_c[\"date\"],new_c[\"new_cases\"],color=\"purple\")\n",
    "plt.show()"
   ]
  },
  {
   "cell_type": "code",
   "execution_count": 27,
   "id": "79c28571-76df-4154-9722-57da6b892303",
   "metadata": {},
   "outputs": [
    {
     "data": {
      "text/html": [
       "<div>\n",
       "<style scoped>\n",
       "    .dataframe tbody tr th:only-of-type {\n",
       "        vertical-align: middle;\n",
       "    }\n",
       "\n",
       "    .dataframe tbody tr th {\n",
       "        vertical-align: top;\n",
       "    }\n",
       "\n",
       "    .dataframe thead th {\n",
       "        text-align: right;\n",
       "    }\n",
       "</style>\n",
       "<table border=\"1\" class=\"dataframe\">\n",
       "  <thead>\n",
       "    <tr style=\"text-align: right;\">\n",
       "      <th></th>\n",
       "      <th>location</th>\n",
       "      <th>date</th>\n",
       "      <th>total_cases</th>\n",
       "      <th>total_deaths</th>\n",
       "      <th>total_vaccinations</th>\n",
       "      <th>new_cases</th>\n",
       "      <th>death_per_day</th>\n",
       "    </tr>\n",
       "  </thead>\n",
       "  <tbody>\n",
       "    <tr>\n",
       "      <th>0</th>\n",
       "      <td>India</td>\n",
       "      <td>2021-06-01</td>\n",
       "      <td>217724</td>\n",
       "      <td>34626</td>\n",
       "      <td>1214347</td>\n",
       "      <td>NaN</td>\n",
       "      <td>NaN</td>\n",
       "    </tr>\n",
       "    <tr>\n",
       "      <th>1</th>\n",
       "      <td>India</td>\n",
       "      <td>2021-06-02</td>\n",
       "      <td>556690</td>\n",
       "      <td>42417</td>\n",
       "      <td>907907</td>\n",
       "      <td>338966.0</td>\n",
       "      <td>7791.0</td>\n",
       "    </tr>\n",
       "    <tr>\n",
       "      <th>2</th>\n",
       "      <td>India</td>\n",
       "      <td>2021-06-03</td>\n",
       "      <td>451631</td>\n",
       "      <td>34383</td>\n",
       "      <td>937621</td>\n",
       "      <td>-105059.0</td>\n",
       "      <td>-8034.0</td>\n",
       "    </tr>\n",
       "    <tr>\n",
       "      <th>3</th>\n",
       "      <td>India</td>\n",
       "      <td>2021-06-04</td>\n",
       "      <td>877059</td>\n",
       "      <td>31332</td>\n",
       "      <td>1579186</td>\n",
       "      <td>425428.0</td>\n",
       "      <td>-3051.0</td>\n",
       "    </tr>\n",
       "    <tr>\n",
       "      <th>4</th>\n",
       "      <td>India</td>\n",
       "      <td>2021-06-05</td>\n",
       "      <td>884827</td>\n",
       "      <td>45949</td>\n",
       "      <td>869094</td>\n",
       "      <td>7768.0</td>\n",
       "      <td>14617.0</td>\n",
       "    </tr>\n",
       "  </tbody>\n",
       "</table>\n",
       "</div>"
      ],
      "text/plain": [
       "  location       date  total_cases  total_deaths  total_vaccinations  \\\n",
       "0    India 2021-06-01       217724         34626             1214347   \n",
       "1    India 2021-06-02       556690         42417              907907   \n",
       "2    India 2021-06-03       451631         34383              937621   \n",
       "3    India 2021-06-04       877059         31332             1579186   \n",
       "4    India 2021-06-05       884827         45949              869094   \n",
       "\n",
       "   new_cases  death_per_day  \n",
       "0        NaN            NaN  \n",
       "1   338966.0         7791.0  \n",
       "2  -105059.0        -8034.0  \n",
       "3   425428.0        -3051.0  \n",
       "4     7768.0        14617.0  "
      ]
     },
     "execution_count": 27,
     "metadata": {},
     "output_type": "execute_result"
    }
   ],
   "source": [
    "#What is the trend of new deaths each day\n",
    "df[\"death_per_day\"]=df.groupby(\"location\")[\"total_deaths\"].diff()\n",
    "df.head()"
   ]
  },
  {
   "cell_type": "code",
   "execution_count": 28,
   "id": "88678de0-0ff8-452e-b378-4e40c63d9e65",
   "metadata": {},
   "outputs": [],
   "source": [
    "death_g=df.groupby(\"date\")[\"death_per_day\"].sum().reset_index()"
   ]
  },
  {
   "cell_type": "code",
   "execution_count": 30,
   "id": "495e8f12-a2cb-47c1-905a-cc80846f564c",
   "metadata": {},
   "outputs": [
    {
     "data": {
      "image/png": "[encoded data removed]",
      "text/plain": [
       "<Figure size 640x480 with 1 Axes>"
      ]
     },
     "metadata": {},
     "output_type": "display_data"
    }
   ],
   "source": [
    "plt.plot(death_g[\"date\"],death_g[\"death_per_day\"],color=\"blue\")\n",
    "plt.title(\"Death by day\")\n",
    "plt.xticks(rotation=90)\n",
    "plt.show()"
   ]
  },
  {
   "cell_type": "code",
   "execution_count": 33,
   "id": "06306ee2-fdac-4278-9138-f0d322b3518d",
   "metadata": {},
   "outputs": [
    {
     "data": {
      "image/png": "[encoded data removed]",
      "text/plain": [
       "<Figure size 640x480 with 1 Axes>"
      ]
     },
     "metadata": {},
     "output_type": "display_data"
    }
   ],
   "source": [
    "#Were there any major peaks or waves in cases\n",
    "plt.plot(new_c[\"date\"],new_c[\"new_cases\"],color=\"purple\",marker='o')\n",
    "plt.show()"
   ]
  },
  {
   "cell_type": "code",
   "execution_count": null,
   "id": "d779c964-0478-4ec0-82c1-21d1876e3347",
   "metadata": {},
   "outputs": [],
   "source": [
    "\"\"\"❓ 3. How did vaccination progress over time?\n",
    "Sub-questions:\n",
    "\n",
    "Which countries have the most vaccinations?\n",
    "\n",
    "How did total vaccinations change globally over time?\n",
    "\n",
    "Which countries vaccinated the largest percentage of their population?\n",
    "\"\"\""
   ]
  },
  {
   "cell_type": "code",
   "execution_count": 34,
   "id": "cb2059cb-84e5-4fc4-b244-fab64c73ba83",
   "metadata": {},
   "outputs": [
    {
     "data": {
      "text/plain": [
       "Index(['location', 'date', 'total_cases', 'total_deaths', 'total_vaccinations',\n",
       "       'new_cases', 'death_per_day'],\n",
       "      dtype='object')"
      ]
     },
     "execution_count": 34,
     "metadata": {},
     "output_type": "execute_result"
    }
   ],
   "source": [
    "df.columns"
   ]
  },
  {
   "cell_type": "code",
   "execution_count": 35,
   "id": "7fd2caa7-820d-4792-a365-e3c0269fef15",
   "metadata": {},
   "outputs": [
    {
     "data": {
      "text/plain": [
       "location\n",
       "Brazil           48209175\n",
       "Germany          43746950\n",
       "United States    41591661\n",
       "India            39887130\n",
       "Russia           35876802\n",
       "Name: total_vaccinations, dtype: int64"
      ]
     },
     "execution_count": 35,
     "metadata": {},
     "output_type": "execute_result"
    }
   ],
   "source": [
    "#Which countries have the most vaccinations\n",
    "df.groupby(\"location\")[\"total_vaccinations\"].sum().sort_values(ascending=False)"
   ]
  },
  {
   "cell_type": "code",
   "execution_count": 36,
   "id": "8f575ada-c009-4791-b160-d7013bc9e9b5",
   "metadata": {},
   "outputs": [],
   "source": [
    "#How did total vaccinations change globally over time\n",
    "df[\"vacc\"]=df.groupby(\"location\")[\"total_vaccinations\"].diff()"
   ]
  },
  {
   "cell_type": "code",
   "execution_count": 37,
   "id": "2b0214fd-3a6b-4450-9134-5e93cadc2a35",
   "metadata": {},
   "outputs": [
    {
     "data": {
      "text/html": [
       "<div>\n",
       "<style scoped>\n",
       "    .dataframe tbody tr th:only-of-type {\n",
       "        vertical-align: middle;\n",
       "    }\n",
       "\n",
       "    .dataframe tbody tr th {\n",
       "        vertical-align: top;\n",
       "    }\n",
       "\n",
       "    .dataframe thead th {\n",
       "        text-align: right;\n",
       "    }\n",
       "</style>\n",
       "<table border=\"1\" class=\"dataframe\">\n",
       "  <thead>\n",
       "    <tr style=\"text-align: right;\">\n",
       "      <th></th>\n",
       "      <th>location</th>\n",
       "      <th>date</th>\n",
       "      <th>total_cases</th>\n",
       "      <th>total_deaths</th>\n",
       "      <th>total_vaccinations</th>\n",
       "      <th>new_cases</th>\n",
       "      <th>death_per_day</th>\n",
       "      <th>vacc</th>\n",
       "    </tr>\n",
       "  </thead>\n",
       "  <tbody>\n",
       "    <tr>\n",
       "      <th>0</th>\n",
       "      <td>India</td>\n",
       "      <td>2021-06-01</td>\n",
       "      <td>217724</td>\n",
       "      <td>34626</td>\n",
       "      <td>1214347</td>\n",
       "      <td>NaN</td>\n",
       "      <td>NaN</td>\n",
       "      <td>NaN</td>\n",
       "    </tr>\n",
       "    <tr>\n",
       "      <th>1</th>\n",
       "      <td>India</td>\n",
       "      <td>2021-06-02</td>\n",
       "      <td>556690</td>\n",
       "      <td>42417</td>\n",
       "      <td>907907</td>\n",
       "      <td>338966.0</td>\n",
       "      <td>7791.0</td>\n",
       "      <td>-306440.0</td>\n",
       "    </tr>\n",
       "    <tr>\n",
       "      <th>2</th>\n",
       "      <td>India</td>\n",
       "      <td>2021-06-03</td>\n",
       "      <td>451631</td>\n",
       "      <td>34383</td>\n",
       "      <td>937621</td>\n",
       "      <td>-105059.0</td>\n",
       "      <td>-8034.0</td>\n",
       "      <td>29714.0</td>\n",
       "    </tr>\n",
       "    <tr>\n",
       "      <th>3</th>\n",
       "      <td>India</td>\n",
       "      <td>2021-06-04</td>\n",
       "      <td>877059</td>\n",
       "      <td>31332</td>\n",
       "      <td>1579186</td>\n",
       "      <td>425428.0</td>\n",
       "      <td>-3051.0</td>\n",
       "      <td>641565.0</td>\n",
       "    </tr>\n",
       "    <tr>\n",
       "      <th>4</th>\n",
       "      <td>India</td>\n",
       "      <td>2021-06-05</td>\n",
       "      <td>884827</td>\n",
       "      <td>45949</td>\n",
       "      <td>869094</td>\n",
       "      <td>7768.0</td>\n",
       "      <td>14617.0</td>\n",
       "      <td>-710092.0</td>\n",
       "    </tr>\n",
       "  </tbody>\n",
       "</table>\n",
       "</div>"
      ],
      "text/plain": [
       "  location       date  total_cases  total_deaths  total_vaccinations  \\\n",
       "0    India 2021-06-01       217724         34626             1214347   \n",
       "1    India 2021-06-02       556690         42417              907907   \n",
       "2    India 2021-06-03       451631         34383              937621   \n",
       "3    India 2021-06-04       877059         31332             1579186   \n",
       "4    India 2021-06-05       884827         45949              869094   \n",
       "\n",
       "   new_cases  death_per_day      vacc  \n",
       "0        NaN            NaN       NaN  \n",
       "1   338966.0         7791.0 -306440.0  \n",
       "2  -105059.0        -8034.0   29714.0  \n",
       "3   425428.0        -3051.0  641565.0  \n",
       "4     7768.0        14617.0 -710092.0  "
      ]
     },
     "execution_count": 37,
     "metadata": {},
     "output_type": "execute_result"
    }
   ],
   "source": [
    "df.head()"
   ]
  },
  {
   "cell_type": "code",
   "execution_count": 38,
   "id": "ce80ea90-a7f4-470b-8b0a-9ba74fd4534c",
   "metadata": {},
   "outputs": [],
   "source": [
    "vacc_g=df.groupby(\"date\")[\"vacc\"].sum().reset_index()"
   ]
  },
  {
   "cell_type": "code",
   "execution_count": 41,
   "id": "f62bccd6-0402-403f-bdaa-f6df7b556732",
   "metadata": {},
   "outputs": [
    {
     "data": {
      "image/png": "[encoded data removed]",
      "text/plain": [
       "<Figure size 640x480 with 1 Axes>"
      ]
     },
     "metadata": {},
     "output_type": "display_data"
    }
   ],
   "source": [
    "plt.plot(vacc_g[\"date\"],vacc_g[\"vacc\"],color=\"red\")\n",
    "plt.xticks(rotation=90)\n",
    "plt.show()\n"
   ]
  },
  {
   "cell_type": "code",
   "execution_count": 42,
   "id": "45d6ef17-9fec-4dfd-aac0-ae7a6e7beb27",
   "metadata": {},
   "outputs": [
    {
     "data": {
      "text/plain": [
       "location\n",
       "Brazil    48209175\n",
       "Name: total_vaccinations, dtype: int64"
      ]
     },
     "execution_count": 42,
     "metadata": {},
     "output_type": "execute_result"
    }
   ],
   "source": [
    "#Which countries vaccinated the largest percentage of their population\n",
    "df.groupby(\"location\")[\"total_vaccinations\"].sum().sort_values(ascending=False).head(1)"
   ]
  },
  {
   "cell_type": "code",
   "execution_count": null,
   "id": "08e79f37-b7ad-4e41-a904-a05d62062f20",
   "metadata": {},
   "outputs": [],
   "source": [
    "\"\"\"❓ 4. What is the link between vaccines and case numbers?\n",
    "Sub-questions:\n",
    "\n",
    "Did cases or deaths decrease after vaccinations started?\n",
    "\n",
    "Do countries with high vaccination rates have fewer deaths?\n",
    "\n",
    "Is there a visible change in trends before and after vaccination\"\"\""
   ]
  },
  {
   "cell_type": "code",
   "execution_count": null,
   "id": "74e03fb3-4dcb-4f8c-a04d-30b110745e57",
   "metadata": {},
   "outputs": [],
   "source": [
    "#Did cases or deaths decrease after vaccinations started"
   ]
  },
  {
   "cell_type": "code",
   "execution_count": 50,
   "id": "8961c0d4-600d-46ce-ae45-b704f4bbb2fd",
   "metadata": {},
   "outputs": [
    {
     "data": {
      "text/html": [
       "<div>\n",
       "<style scoped>\n",
       "    .dataframe tbody tr th:only-of-type {\n",
       "        vertical-align: middle;\n",
       "    }\n",
       "\n",
       "    .dataframe tbody tr th {\n",
       "        vertical-align: top;\n",
       "    }\n",
       "\n",
       "    .dataframe thead th {\n",
       "        text-align: right;\n",
       "    }\n",
       "</style>\n",
       "<table border=\"1\" class=\"dataframe\">\n",
       "  <thead>\n",
       "    <tr style=\"text-align: right;\">\n",
       "      <th></th>\n",
       "      <th>total_cases</th>\n",
       "      <th>new_cases</th>\n",
       "    </tr>\n",
       "  </thead>\n",
       "  <tbody>\n",
       "    <tr>\n",
       "      <th>0</th>\n",
       "      <td>6476</td>\n",
       "      <td>-248454.0</td>\n",
       "    </tr>\n",
       "    <tr>\n",
       "      <th>1</th>\n",
       "      <td>25603</td>\n",
       "      <td>-804881.0</td>\n",
       "    </tr>\n",
       "    <tr>\n",
       "      <th>2</th>\n",
       "      <td>28652</td>\n",
       "      <td>-612082.0</td>\n",
       "    </tr>\n",
       "    <tr>\n",
       "      <th>3</th>\n",
       "      <td>31928</td>\n",
       "      <td>-331788.0</td>\n",
       "    </tr>\n",
       "    <tr>\n",
       "      <th>4</th>\n",
       "      <td>32790</td>\n",
       "      <td>-283230.0</td>\n",
       "    </tr>\n",
       "    <tr>\n",
       "      <th>...</th>\n",
       "      <td>...</td>\n",
       "      <td>...</td>\n",
       "    </tr>\n",
       "    <tr>\n",
       "      <th>195</th>\n",
       "      <td>978798</td>\n",
       "      <td>722668.0</td>\n",
       "    </tr>\n",
       "    <tr>\n",
       "      <th>196</th>\n",
       "      <td>983741</td>\n",
       "      <td>844845.0</td>\n",
       "    </tr>\n",
       "    <tr>\n",
       "      <th>197</th>\n",
       "      <td>985686</td>\n",
       "      <td>775952.0</td>\n",
       "    </tr>\n",
       "    <tr>\n",
       "      <th>198</th>\n",
       "      <td>986954</td>\n",
       "      <td>938578.0</td>\n",
       "    </tr>\n",
       "    <tr>\n",
       "      <th>199</th>\n",
       "      <td>999183</td>\n",
       "      <td>920009.0</td>\n",
       "    </tr>\n",
       "  </tbody>\n",
       "</table>\n",
       "<p>200 rows × 2 columns</p>\n",
       "</div>"
      ],
      "text/plain": [
       "     total_cases  new_cases\n",
       "0           6476  -248454.0\n",
       "1          25603  -804881.0\n",
       "2          28652  -612082.0\n",
       "3          31928  -331788.0\n",
       "4          32790  -283230.0\n",
       "..           ...        ...\n",
       "195       978798   722668.0\n",
       "196       983741   844845.0\n",
       "197       985686   775952.0\n",
       "198       986954   938578.0\n",
       "199       999183   920009.0\n",
       "\n",
       "[200 rows x 2 columns]"
      ]
     },
     "execution_count": 50,
     "metadata": {},
     "output_type": "execute_result"
    }
   ],
   "source": [
    "new_t=df.groupby(\"total_cases\")[\"new_cases\"].sum().reset_index()\n",
    "new_t\n"
   ]
  },
  {
   "cell_type": "code",
   "execution_count": 51,
   "id": "112d43d9-61ed-4f5f-8933-f75ecf9d8de5",
   "metadata": {},
   "outputs": [
    {
     "data": {
      "image/png": "[encoded data removed]",
      "text/plain": [
       "<Figure size 640x480 with 1 Axes>"
      ]
     },
     "metadata": {},
     "output_type": "display_data"
    }
   ],
   "source": [
    "plt.plot(new_t[\"total_cases\"],new_t[\"new_cases\"])\n",
    "plt.show()\n"
   ]
  },
  {
   "cell_type": "code",
   "execution_count": 53,
   "id": "ddb22399-6322-44f5-a986-cc93d00d5eec",
   "metadata": {},
   "outputs": [
    {
     "data": {
      "text/html": [
       "<div>\n",
       "<style scoped>\n",
       "    .dataframe tbody tr th:only-of-type {\n",
       "        vertical-align: middle;\n",
       "    }\n",
       "\n",
       "    .dataframe tbody tr th {\n",
       "        vertical-align: top;\n",
       "    }\n",
       "\n",
       "    .dataframe thead th {\n",
       "        text-align: right;\n",
       "    }\n",
       "</style>\n",
       "<table border=\"1\" class=\"dataframe\">\n",
       "  <thead>\n",
       "    <tr style=\"text-align: right;\">\n",
       "      <th></th>\n",
       "      <th>new_cases</th>\n",
       "      <th>total_vaccinations</th>\n",
       "    </tr>\n",
       "  </thead>\n",
       "  <tbody>\n",
       "    <tr>\n",
       "      <th>0</th>\n",
       "      <td>-898135.0</td>\n",
       "      <td>1706690</td>\n",
       "    </tr>\n",
       "    <tr>\n",
       "      <th>1</th>\n",
       "      <td>-894816.0</td>\n",
       "      <td>335376</td>\n",
       "    </tr>\n",
       "    <tr>\n",
       "      <th>2</th>\n",
       "      <td>-873789.0</td>\n",
       "      <td>1460406</td>\n",
       "    </tr>\n",
       "    <tr>\n",
       "      <th>3</th>\n",
       "      <td>-822069.0</td>\n",
       "      <td>1444078</td>\n",
       "    </tr>\n",
       "    <tr>\n",
       "      <th>4</th>\n",
       "      <td>-819665.0</td>\n",
       "      <td>982616</td>\n",
       "    </tr>\n",
       "    <tr>\n",
       "      <th>...</th>\n",
       "      <td>...</td>\n",
       "      <td>...</td>\n",
       "    </tr>\n",
       "    <tr>\n",
       "      <th>190</th>\n",
       "      <td>824720.0</td>\n",
       "      <td>214625</td>\n",
       "    </tr>\n",
       "    <tr>\n",
       "      <th>191</th>\n",
       "      <td>844845.0</td>\n",
       "      <td>1778273</td>\n",
       "    </tr>\n",
       "    <tr>\n",
       "      <th>192</th>\n",
       "      <td>908093.0</td>\n",
       "      <td>1480758</td>\n",
       "    </tr>\n",
       "    <tr>\n",
       "      <th>193</th>\n",
       "      <td>920009.0</td>\n",
       "      <td>690117</td>\n",
       "    </tr>\n",
       "    <tr>\n",
       "      <th>194</th>\n",
       "      <td>938578.0</td>\n",
       "      <td>912574</td>\n",
       "    </tr>\n",
       "  </tbody>\n",
       "</table>\n",
       "<p>195 rows × 2 columns</p>\n",
       "</div>"
      ],
      "text/plain": [
       "     new_cases  total_vaccinations\n",
       "0    -898135.0             1706690\n",
       "1    -894816.0              335376\n",
       "2    -873789.0             1460406\n",
       "3    -822069.0             1444078\n",
       "4    -819665.0              982616\n",
       "..         ...                 ...\n",
       "190   824720.0              214625\n",
       "191   844845.0             1778273\n",
       "192   908093.0             1480758\n",
       "193   920009.0              690117\n",
       "194   938578.0              912574\n",
       "\n",
       "[195 rows x 2 columns]"
      ]
     },
     "execution_count": 53,
     "metadata": {},
     "output_type": "execute_result"
    }
   ],
   "source": [
    "#Is there a visible change in trends before and after vaccination\n",
    "tren=df.groupby(\"new_cases\")[\"total_vaccinations\"].sum().reset_index()\n",
    "tren\n"
   ]
  },
  {
   "cell_type": "code",
   "execution_count": 54,
   "id": "08d135de-02cf-43f9-bbf7-5a0de3509679",
   "metadata": {},
   "outputs": [
    {
     "data": {
      "image/png": "[encoded data removed]",
      "text/plain": [
       "<Figure size 640x480 with 1 Axes>"
      ]
     },
     "metadata": {},
     "output_type": "display_data"
    }
   ],
   "source": [
    "plt.plot(tren[\"new_cases\"],tren[\"total_vaccinations\"])\n",
    "plt.show()"
   ]
  },
  {
   "cell_type": "code",
   "execution_count": null,
   "id": "70253f7c-693e-409f-8317-11e11fd4afd4",
   "metadata": {},
   "outputs": [],
   "source": [
    "\"\"\"❓ 5. How deadly was COVID-19 in different countries?\n",
    "Sub-questions:\n",
    "\n",
    "What is the fatality rate (deaths ÷ cases) in each country?\n",
    "\n",
    "Which countries had the highest and lowest fatality rates?\n",
    "\n",
    "Did the fatality rate improve over time?\n",
    "\"\"\""
   ]
  },
  {
   "cell_type": "code",
   "execution_count": 55,
   "id": "3d65ceb2-93da-422d-8dc3-e2028ef5af47",
   "metadata": {},
   "outputs": [],
   "source": [
    "#What is the fatality rate (deaths ÷ cases) in each country\n",
    "df[\"fatality\"]=df[\"total_deaths\"]%df[\"total_cases\"]"
   ]
  },
  {
   "cell_type": "code",
   "execution_count": 56,
   "id": "ad93b0ae-b744-401f-860b-9a721266ba48",
   "metadata": {},
   "outputs": [
    {
     "data": {
      "text/html": [
       "<div>\n",
       "<style scoped>\n",
       "    .dataframe tbody tr th:only-of-type {\n",
       "        vertical-align: middle;\n",
       "    }\n",
       "\n",
       "    .dataframe tbody tr th {\n",
       "        vertical-align: top;\n",
       "    }\n",
       "\n",
       "    .dataframe thead th {\n",
       "        text-align: right;\n",
       "    }\n",
       "</style>\n",
       "<table border=\"1\" class=\"dataframe\">\n",
       "  <thead>\n",
       "    <tr style=\"text-align: right;\">\n",
       "      <th></th>\n",
       "      <th>location</th>\n",
       "      <th>date</th>\n",
       "      <th>total_cases</th>\n",
       "      <th>total_deaths</th>\n",
       "      <th>total_vaccinations</th>\n",
       "      <th>new_cases</th>\n",
       "      <th>death_per_day</th>\n",
       "      <th>vacc</th>\n",
       "      <th>fatality</th>\n",
       "    </tr>\n",
       "  </thead>\n",
       "  <tbody>\n",
       "    <tr>\n",
       "      <th>0</th>\n",
       "      <td>India</td>\n",
       "      <td>2021-06-01</td>\n",
       "      <td>217724</td>\n",
       "      <td>34626</td>\n",
       "      <td>1214347</td>\n",
       "      <td>NaN</td>\n",
       "      <td>NaN</td>\n",
       "      <td>NaN</td>\n",
       "      <td>34626</td>\n",
       "    </tr>\n",
       "    <tr>\n",
       "      <th>1</th>\n",
       "      <td>India</td>\n",
       "      <td>2021-06-02</td>\n",
       "      <td>556690</td>\n",
       "      <td>42417</td>\n",
       "      <td>907907</td>\n",
       "      <td>338966.0</td>\n",
       "      <td>7791.0</td>\n",
       "      <td>-306440.0</td>\n",
       "      <td>42417</td>\n",
       "    </tr>\n",
       "    <tr>\n",
       "      <th>2</th>\n",
       "      <td>India</td>\n",
       "      <td>2021-06-03</td>\n",
       "      <td>451631</td>\n",
       "      <td>34383</td>\n",
       "      <td>937621</td>\n",
       "      <td>-105059.0</td>\n",
       "      <td>-8034.0</td>\n",
       "      <td>29714.0</td>\n",
       "      <td>34383</td>\n",
       "    </tr>\n",
       "    <tr>\n",
       "      <th>3</th>\n",
       "      <td>India</td>\n",
       "      <td>2021-06-04</td>\n",
       "      <td>877059</td>\n",
       "      <td>31332</td>\n",
       "      <td>1579186</td>\n",
       "      <td>425428.0</td>\n",
       "      <td>-3051.0</td>\n",
       "      <td>641565.0</td>\n",
       "      <td>31332</td>\n",
       "    </tr>\n",
       "    <tr>\n",
       "      <th>4</th>\n",
       "      <td>India</td>\n",
       "      <td>2021-06-05</td>\n",
       "      <td>884827</td>\n",
       "      <td>45949</td>\n",
       "      <td>869094</td>\n",
       "      <td>7768.0</td>\n",
       "      <td>14617.0</td>\n",
       "      <td>-710092.0</td>\n",
       "      <td>45949</td>\n",
       "    </tr>\n",
       "  </tbody>\n",
       "</table>\n",
       "</div>"
      ],
      "text/plain": [
       "  location       date  total_cases  total_deaths  total_vaccinations  \\\n",
       "0    India 2021-06-01       217724         34626             1214347   \n",
       "1    India 2021-06-02       556690         42417              907907   \n",
       "2    India 2021-06-03       451631         34383              937621   \n",
       "3    India 2021-06-04       877059         31332             1579186   \n",
       "4    India 2021-06-05       884827         45949              869094   \n",
       "\n",
       "   new_cases  death_per_day      vacc  fatality  \n",
       "0        NaN            NaN       NaN     34626  \n",
       "1   338966.0         7791.0 -306440.0     42417  \n",
       "2  -105059.0        -8034.0   29714.0     34383  \n",
       "3   425428.0        -3051.0  641565.0     31332  \n",
       "4     7768.0        14617.0 -710092.0     45949  "
      ]
     },
     "execution_count": 56,
     "metadata": {},
     "output_type": "execute_result"
    }
   ],
   "source": [
    "df.head()"
   ]
  },
  {
   "cell_type": "code",
   "execution_count": 57,
   "id": "59edcaf8-1651-48eb-b85e-7490c98eab76",
   "metadata": {},
   "outputs": [
    {
     "data": {
      "text/html": [
       "<div>\n",
       "<style scoped>\n",
       "    .dataframe tbody tr th:only-of-type {\n",
       "        vertical-align: middle;\n",
       "    }\n",
       "\n",
       "    .dataframe tbody tr th {\n",
       "        vertical-align: top;\n",
       "    }\n",
       "\n",
       "    .dataframe thead th {\n",
       "        text-align: right;\n",
       "    }\n",
       "</style>\n",
       "<table border=\"1\" class=\"dataframe\">\n",
       "  <thead>\n",
       "    <tr style=\"text-align: right;\">\n",
       "      <th></th>\n",
       "      <th>location</th>\n",
       "      <th>fatality</th>\n",
       "    </tr>\n",
       "  </thead>\n",
       "  <tbody>\n",
       "    <tr>\n",
       "      <th>0</th>\n",
       "      <td>Brazil</td>\n",
       "      <td>926214</td>\n",
       "    </tr>\n",
       "    <tr>\n",
       "      <th>1</th>\n",
       "      <td>Germany</td>\n",
       "      <td>1027445</td>\n",
       "    </tr>\n",
       "    <tr>\n",
       "      <th>2</th>\n",
       "      <td>India</td>\n",
       "      <td>942466</td>\n",
       "    </tr>\n",
       "    <tr>\n",
       "      <th>3</th>\n",
       "      <td>Russia</td>\n",
       "      <td>906292</td>\n",
       "    </tr>\n",
       "    <tr>\n",
       "      <th>4</th>\n",
       "      <td>United States</td>\n",
       "      <td>919601</td>\n",
       "    </tr>\n",
       "  </tbody>\n",
       "</table>\n",
       "</div>"
      ],
      "text/plain": [
       "        location  fatality\n",
       "0         Brazil    926214\n",
       "1        Germany   1027445\n",
       "2          India    942466\n",
       "3         Russia    906292\n",
       "4  United States    919601"
      ]
     },
     "execution_count": 57,
     "metadata": {},
     "output_type": "execute_result"
    }
   ],
   "source": [
    "df.groupby(\"location\")[\"fatality\"].sum().reset_index()"
   ]
  },
  {
   "cell_type": "code",
   "execution_count": 59,
   "id": "a3f3d220-50d0-4c60-b331-5b71460add30",
   "metadata": {},
   "outputs": [
    {
     "data": {
      "text/html": [
       "<div>\n",
       "<style scoped>\n",
       "    .dataframe tbody tr th:only-of-type {\n",
       "        vertical-align: middle;\n",
       "    }\n",
       "\n",
       "    .dataframe tbody tr th {\n",
       "        vertical-align: top;\n",
       "    }\n",
       "\n",
       "    .dataframe thead th {\n",
       "        text-align: right;\n",
       "    }\n",
       "</style>\n",
       "<table border=\"1\" class=\"dataframe\">\n",
       "  <thead>\n",
       "    <tr style=\"text-align: right;\">\n",
       "      <th></th>\n",
       "      <th>sum</th>\n",
       "      <th>min</th>\n",
       "      <th>max</th>\n",
       "    </tr>\n",
       "    <tr>\n",
       "      <th>location</th>\n",
       "      <th></th>\n",
       "      <th></th>\n",
       "      <th></th>\n",
       "    </tr>\n",
       "  </thead>\n",
       "  <tbody>\n",
       "    <tr>\n",
       "      <th>Brazil</th>\n",
       "      <td>926214</td>\n",
       "      <td>1500</td>\n",
       "      <td>49621</td>\n",
       "    </tr>\n",
       "    <tr>\n",
       "      <th>Germany</th>\n",
       "      <td>1027445</td>\n",
       "      <td>1629</td>\n",
       "      <td>47146</td>\n",
       "    </tr>\n",
       "    <tr>\n",
       "      <th>India</th>\n",
       "      <td>942466</td>\n",
       "      <td>655</td>\n",
       "      <td>47404</td>\n",
       "    </tr>\n",
       "    <tr>\n",
       "      <th>Russia</th>\n",
       "      <td>906292</td>\n",
       "      <td>1188</td>\n",
       "      <td>45370</td>\n",
       "    </tr>\n",
       "    <tr>\n",
       "      <th>United States</th>\n",
       "      <td>919601</td>\n",
       "      <td>173</td>\n",
       "      <td>46648</td>\n",
       "    </tr>\n",
       "  </tbody>\n",
       "</table>\n",
       "</div>"
      ],
      "text/plain": [
       "                   sum   min    max\n",
       "location                           \n",
       "Brazil          926214  1500  49621\n",
       "Germany        1027445  1629  47146\n",
       "India           942466   655  47404\n",
       "Russia          906292  1188  45370\n",
       "United States   919601   173  46648"
      ]
     },
     "execution_count": 59,
     "metadata": {},
     "output_type": "execute_result"
    }
   ],
   "source": [
    "#Which countries had the highest and lowest fatality rates\n",
    "df.groupby(\"location\")[\"fatality\"].agg([\"sum\",\"min\",\"max\"])"
   ]
  },
  {
   "cell_type": "code",
   "execution_count": 64,
   "id": "ccf7dd8d-3132-4996-a5db-bc9071ee3a02",
   "metadata": {},
   "outputs": [
    {
     "name": "stdout",
     "output_type": "stream",
     "text": [
      "minimum cases in Russia\n",
      "maximum cases in Germany\n"
     ]
    }
   ],
   "source": [
    "#Which countries had the highest and lowest fatality rates\n",
    "min_c=df.groupby(\"location\")[\"fatality\"].sum().idxmin()\n",
    "max_c=df.groupby(\"location\")[\"fatality\"].sum().idxmax()\n",
    "print(f\"minimum cases in {min_c}\")\n",
    "print(f\"maximum cases in {max_c}\")"
   ]
  },
  {
   "cell_type": "code",
   "execution_count": 65,
   "id": "5f0bdd25-d99e-406f-bf9d-7216542df494",
   "metadata": {},
   "outputs": [],
   "source": [
    "df[\"fatlity_rates\"]=df[\"total_deaths\"]/df[\"total_cases\"]*100"
   ]
  },
  {
   "cell_type": "code",
   "execution_count": 66,
   "id": "d5c03916-f1bd-4106-a535-c1cd49243710",
   "metadata": {},
   "outputs": [
    {
     "data": {
      "text/html": [
       "<div>\n",
       "<style scoped>\n",
       "    .dataframe tbody tr th:only-of-type {\n",
       "        vertical-align: middle;\n",
       "    }\n",
       "\n",
       "    .dataframe tbody tr th {\n",
       "        vertical-align: top;\n",
       "    }\n",
       "\n",
       "    .dataframe thead th {\n",
       "        text-align: right;\n",
       "    }\n",
       "</style>\n",
       "<table border=\"1\" class=\"dataframe\">\n",
       "  <thead>\n",
       "    <tr style=\"text-align: right;\">\n",
       "      <th></th>\n",
       "      <th>location</th>\n",
       "      <th>date</th>\n",
       "      <th>total_cases</th>\n",
       "      <th>total_deaths</th>\n",
       "      <th>total_vaccinations</th>\n",
       "      <th>new_cases</th>\n",
       "      <th>death_per_day</th>\n",
       "      <th>vacc</th>\n",
       "      <th>fatality</th>\n",
       "      <th>fatlity_rates</th>\n",
       "    </tr>\n",
       "  </thead>\n",
       "  <tbody>\n",
       "    <tr>\n",
       "      <th>0</th>\n",
       "      <td>India</td>\n",
       "      <td>2021-06-01</td>\n",
       "      <td>217724</td>\n",
       "      <td>34626</td>\n",
       "      <td>1214347</td>\n",
       "      <td>NaN</td>\n",
       "      <td>NaN</td>\n",
       "      <td>NaN</td>\n",
       "      <td>34626</td>\n",
       "      <td>15.903621</td>\n",
       "    </tr>\n",
       "    <tr>\n",
       "      <th>1</th>\n",
       "      <td>India</td>\n",
       "      <td>2021-06-02</td>\n",
       "      <td>556690</td>\n",
       "      <td>42417</td>\n",
       "      <td>907907</td>\n",
       "      <td>338966.0</td>\n",
       "      <td>7791.0</td>\n",
       "      <td>-306440.0</td>\n",
       "      <td>42417</td>\n",
       "      <td>7.619501</td>\n",
       "    </tr>\n",
       "    <tr>\n",
       "      <th>2</th>\n",
       "      <td>India</td>\n",
       "      <td>2021-06-03</td>\n",
       "      <td>451631</td>\n",
       "      <td>34383</td>\n",
       "      <td>937621</td>\n",
       "      <td>-105059.0</td>\n",
       "      <td>-8034.0</td>\n",
       "      <td>29714.0</td>\n",
       "      <td>34383</td>\n",
       "      <td>7.613074</td>\n",
       "    </tr>\n",
       "    <tr>\n",
       "      <th>3</th>\n",
       "      <td>India</td>\n",
       "      <td>2021-06-04</td>\n",
       "      <td>877059</td>\n",
       "      <td>31332</td>\n",
       "      <td>1579186</td>\n",
       "      <td>425428.0</td>\n",
       "      <td>-3051.0</td>\n",
       "      <td>641565.0</td>\n",
       "      <td>31332</td>\n",
       "      <td>3.572394</td>\n",
       "    </tr>\n",
       "    <tr>\n",
       "      <th>4</th>\n",
       "      <td>India</td>\n",
       "      <td>2021-06-05</td>\n",
       "      <td>884827</td>\n",
       "      <td>45949</td>\n",
       "      <td>869094</td>\n",
       "      <td>7768.0</td>\n",
       "      <td>14617.0</td>\n",
       "      <td>-710092.0</td>\n",
       "      <td>45949</td>\n",
       "      <td>5.192993</td>\n",
       "    </tr>\n",
       "  </tbody>\n",
       "</table>\n",
       "</div>"
      ],
      "text/plain": [
       "  location       date  total_cases  total_deaths  total_vaccinations  \\\n",
       "0    India 2021-06-01       217724         34626             1214347   \n",
       "1    India 2021-06-02       556690         42417              907907   \n",
       "2    India 2021-06-03       451631         34383              937621   \n",
       "3    India 2021-06-04       877059         31332             1579186   \n",
       "4    India 2021-06-05       884827         45949              869094   \n",
       "\n",
       "   new_cases  death_per_day      vacc  fatality  fatlity_rates  \n",
       "0        NaN            NaN       NaN     34626      15.903621  \n",
       "1   338966.0         7791.0 -306440.0     42417       7.619501  \n",
       "2  -105059.0        -8034.0   29714.0     34383       7.613074  \n",
       "3   425428.0        -3051.0  641565.0     31332       3.572394  \n",
       "4     7768.0        14617.0 -710092.0     45949       5.192993  "
      ]
     },
     "execution_count": 66,
     "metadata": {},
     "output_type": "execute_result"
    }
   ],
   "source": [
    "df.head()"
   ]
  },
  {
   "cell_type": "code",
   "execution_count": 68,
   "id": "a2eb2fd2-70bc-4b3c-aa6d-41719a600fa2",
   "metadata": {},
   "outputs": [
    {
     "data": {
      "text/plain": [
       "'United States'"
      ]
     },
     "execution_count": 68,
     "metadata": {},
     "output_type": "execute_result"
    }
   ],
   "source": [
    "df.groupby(\"location\")[\"fatlity_rates\"].sum().idxmin()"
   ]
  },
  {
   "cell_type": "code",
   "execution_count": 69,
   "id": "b24c2be5-aafc-40e3-81ca-102deec508e8",
   "metadata": {},
   "outputs": [
    {
     "data": {
      "text/plain": [
       "'India'"
      ]
     },
     "execution_count": 69,
     "metadata": {},
     "output_type": "execute_result"
    }
   ],
   "source": [
    "df.groupby(\"location\")[\"fatlity_rates\"].sum().idxmax()"
   ]
  },
  {
   "cell_type": "code",
   "execution_count": 70,
   "id": "0d1c107d-e3cc-4e8f-bac1-b9298828999e",
   "metadata": {},
   "outputs": [
    {
     "data": {
      "image/png": "[encoded data removed]",
      "text/plain": [
       "<Figure size 640x480 with 1 Axes>"
      ]
     },
     "metadata": {},
     "output_type": "display_data"
    }
   ],
   "source": [
    "#Did the fatality rate improve over time\n",
    "dat_e=df.groupby(\"date\")[\"fatlity_rates\"].value_counts().reset_index()\n",
    "plt.plot(dat_e[\"date\"],dat_e[\"fatlity_rates\"],color=\"orange\")\n",
    "plt.xticks(rotation=90)\n",
    "plt.show()\n"
   ]
  },
  {
   "cell_type": "code",
   "execution_count": null,
   "id": "5bb28ae7-72d3-4188-84f3-82ef7e24f4e7",
   "metadata": {},
   "outputs": [],
   "source": []
  }
 ],
 "metadata": {
  "kernelspec": {
   "display_name": "Python 3 (ipykernel)",
   "language": "python",
   "name": "python3"
  },
  "language_info": {
   "codemirror_mode": {
    "name": "ipython",
    "version": 3
   },
   "file_extension": ".py",
   "mimetype": "text/x-python",
   "name": "python",
   "nbconvert_exporter": "python",
   "pygments_lexer": "ipython3",
   "version": "3.12.7"
  }
 },
 "nbformat": 4,
 "nbformat_minor": 5
}
