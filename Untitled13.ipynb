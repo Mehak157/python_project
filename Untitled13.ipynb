{
 "cells": [
  {
   "cell_type": "code",
   "execution_count": 1,
   "id": "286a23ac-b4ea-4013-a441-82080881f236",
   "metadata": {},
   "outputs": [],
   "source": [
    "import numpy as np"
   ]
  },
  {
   "cell_type": "code",
   "execution_count": 2,
   "id": "93ef52a2-91a9-451d-aba1-33f2b6979e41",
   "metadata": {},
   "outputs": [],
   "source": [
    "import pandas as pd"
   ]
  },
  {
   "cell_type": "code",
   "execution_count": 3,
   "id": "bd1d06fa-c5af-41f8-bf42-f60595f300c5",
   "metadata": {},
   "outputs": [],
   "source": [
    "import matplotlib.pyplot as plt"
   ]
  },
  {
   "cell_type": "code",
   "execution_count": 4,
   "id": "a30633c5-2fd2-4e85-b942-bf282318bb15",
   "metadata": {},
   "outputs": [],
   "source": [
    "import seaborn as sns"
   ]
  },
  {
   "cell_type": "code",
   "execution_count": 5,
   "id": "e06761c5-a34b-487a-b8eb-9d28ccc031bc",
   "metadata": {},
   "outputs": [],
   "source": [
    "from textblob import TextBlob"
   ]
  },
  {
   "cell_type": "code",
   "execution_count": 6,
   "id": "5b6687d9-b350-4212-ab45-784d3973daeb",
   "metadata": {},
   "outputs": [],
   "source": [
    "from wordcloud import WordCloud"
   ]
  },
  {
   "cell_type": "code",
   "execution_count": 7,
   "id": "d09fa2f8-9fae-4053-8f3a-b01f33fc0389",
   "metadata": {},
   "outputs": [],
   "source": [
    "df=pd.read_csv(r\"C:\\Users\\ladwa\\Desktop\\forproj\\video_comments_data.csv\")"
   ]
  },
  {
   "cell_type": "code",
   "execution_count": 8,
   "id": "6df2c49d-4420-4949-9609-7b40ad912126",
   "metadata": {},
   "outputs": [
    {
     "data": {
      "text/html": [
       "<div>\n",
       "<style scoped>\n",
       "    .dataframe tbody tr th:only-of-type {\n",
       "        vertical-align: middle;\n",
       "    }\n",
       "\n",
       "    .dataframe tbody tr th {\n",
       "        vertical-align: top;\n",
       "    }\n",
       "\n",
       "    .dataframe thead th {\n",
       "        text-align: right;\n",
       "    }\n",
       "</style>\n",
       "<table border=\"1\" class=\"dataframe\">\n",
       "  <thead>\n",
       "    <tr style=\"text-align: right;\">\n",
       "      <th></th>\n",
       "      <th>video_id</th>\n",
       "      <th>comment</th>\n",
       "      <th>likes</th>\n",
       "      <th>views</th>\n",
       "      <th>dislikes</th>\n",
       "    </tr>\n",
       "  </thead>\n",
       "  <tbody>\n",
       "    <tr>\n",
       "      <th>0</th>\n",
       "      <td>8PRIUW9WCZK</td>\n",
       "      <td>0xPijyxdmneGoKV2JV</td>\n",
       "      <td>5802</td>\n",
       "      <td>599609</td>\n",
       "      <td>4852</td>\n",
       "    </tr>\n",
       "    <tr>\n",
       "      <th>1</th>\n",
       "      <td>GQ6FK6J047N</td>\n",
       "      <td>9YofiugYX6c3QsRDKa5L16pb2tqDLrXx3poi7z Qdqf1c4Kn</td>\n",
       "      <td>3128</td>\n",
       "      <td>44615</td>\n",
       "      <td>501</td>\n",
       "    </tr>\n",
       "    <tr>\n",
       "      <th>2</th>\n",
       "      <td>3EC3E7D2DIV</td>\n",
       "      <td>rTbZPdHE1iAHl5ISAMOhZC600Gwrm5Yos</td>\n",
       "      <td>9342</td>\n",
       "      <td>427805</td>\n",
       "      <td>2215</td>\n",
       "    </tr>\n",
       "    <tr>\n",
       "      <th>3</th>\n",
       "      <td>LWWLLLZEDWX</td>\n",
       "      <td>FDsx8vRfoWGgPOWocdn</td>\n",
       "      <td>1117</td>\n",
       "      <td>625531</td>\n",
       "      <td>815</td>\n",
       "    </tr>\n",
       "    <tr>\n",
       "      <th>4</th>\n",
       "      <td>A2PWA7IIW1Z</td>\n",
       "      <td>0LcD1Mv7R70wx0Cc c02OpaAAJsP3zYu4tUxmFI</td>\n",
       "      <td>8507</td>\n",
       "      <td>710475</td>\n",
       "      <td>1759</td>\n",
       "    </tr>\n",
       "    <tr>\n",
       "      <th>5</th>\n",
       "      <td>70O34UVE16M</td>\n",
       "      <td>bKjEn3SvF0RPi7CX3Ijx7vo1CuwQJbYmcp9RqV7oYSTF347KU</td>\n",
       "      <td>8268</td>\n",
       "      <td>371232</td>\n",
       "      <td>3552</td>\n",
       "    </tr>\n",
       "    <tr>\n",
       "      <th>6</th>\n",
       "      <td>NAVYQVGTZT3</td>\n",
       "      <td>bhip 1Pt FA1tu8</td>\n",
       "      <td>5673</td>\n",
       "      <td>230033</td>\n",
       "      <td>4860</td>\n",
       "    </tr>\n",
       "    <tr>\n",
       "      <th>7</th>\n",
       "      <td>43H30A9S4G3</td>\n",
       "      <td>fR04I9Plenh0 G6MTeD</td>\n",
       "      <td>3347</td>\n",
       "      <td>441649</td>\n",
       "      <td>4412</td>\n",
       "    </tr>\n",
       "    <tr>\n",
       "      <th>8</th>\n",
       "      <td>7JOFHUK4QH9</td>\n",
       "      <td>JSf5qpkg9HBiKP7FGHYZ oVCDSOufOZ</td>\n",
       "      <td>358</td>\n",
       "      <td>291541</td>\n",
       "      <td>4117</td>\n",
       "    </tr>\n",
       "    <tr>\n",
       "      <th>9</th>\n",
       "      <td>XVV5ST8CLT3</td>\n",
       "      <td>HIoAMRwMsh1L51bu1QRaJZEAKu</td>\n",
       "      <td>4815</td>\n",
       "      <td>36522</td>\n",
       "      <td>3590</td>\n",
       "    </tr>\n",
       "  </tbody>\n",
       "</table>\n",
       "</div>"
      ],
      "text/plain": [
       "      video_id                                            comment  likes  \\\n",
       "0  8PRIUW9WCZK                                 0xPijyxdmneGoKV2JV   5802   \n",
       "1  GQ6FK6J047N   9YofiugYX6c3QsRDKa5L16pb2tqDLrXx3poi7z Qdqf1c4Kn   3128   \n",
       "2  3EC3E7D2DIV                  rTbZPdHE1iAHl5ISAMOhZC600Gwrm5Yos   9342   \n",
       "3  LWWLLLZEDWX                                FDsx8vRfoWGgPOWocdn   1117   \n",
       "4  A2PWA7IIW1Z            0LcD1Mv7R70wx0Cc c02OpaAAJsP3zYu4tUxmFI   8507   \n",
       "5  70O34UVE16M  bKjEn3SvF0RPi7CX3Ijx7vo1CuwQJbYmcp9RqV7oYSTF347KU   8268   \n",
       "6  NAVYQVGTZT3                                    bhip 1Pt FA1tu8   5673   \n",
       "7  43H30A9S4G3                                fR04I9Plenh0 G6MTeD   3347   \n",
       "8  7JOFHUK4QH9                    JSf5qpkg9HBiKP7FGHYZ oVCDSOufOZ    358   \n",
       "9  XVV5ST8CLT3                         HIoAMRwMsh1L51bu1QRaJZEAKu   4815   \n",
       "\n",
       "    views  dislikes  \n",
       "0  599609      4852  \n",
       "1   44615       501  \n",
       "2  427805      2215  \n",
       "3  625531       815  \n",
       "4  710475      1759  \n",
       "5  371232      3552  \n",
       "6  230033      4860  \n",
       "7  441649      4412  \n",
       "8  291541      4117  \n",
       "9   36522      3590  "
      ]
     },
     "execution_count": 8,
     "metadata": {},
     "output_type": "execute_result"
    }
   ],
   "source": [
    "df.head(10)"
   ]
  },
  {
   "cell_type": "code",
   "execution_count": 9,
   "id": "964ffd1a-181d-435f-8658-37e8697b6638",
   "metadata": {},
   "outputs": [],
   "source": [
    "df1=pd.read_csv(r\"C:\\Users\\ladwa\\Desktop\\forproj\\video_comments_simple_english.csv\")"
   ]
  },
  {
   "cell_type": "code",
   "execution_count": 10,
   "id": "0508b4d0-0755-4233-9cb9-f16b9c68d29b",
   "metadata": {},
   "outputs": [
    {
     "data": {
      "text/html": [
       "<div>\n",
       "<style scoped>\n",
       "    .dataframe tbody tr th:only-of-type {\n",
       "        vertical-align: middle;\n",
       "    }\n",
       "\n",
       "    .dataframe tbody tr th {\n",
       "        vertical-align: top;\n",
       "    }\n",
       "\n",
       "    .dataframe thead th {\n",
       "        text-align: right;\n",
       "    }\n",
       "</style>\n",
       "<table border=\"1\" class=\"dataframe\">\n",
       "  <thead>\n",
       "    <tr style=\"text-align: right;\">\n",
       "      <th></th>\n",
       "      <th>video_id</th>\n",
       "      <th>comment</th>\n",
       "      <th>likes</th>\n",
       "      <th>views</th>\n",
       "      <th>dislikes</th>\n",
       "    </tr>\n",
       "  </thead>\n",
       "  <tbody>\n",
       "    <tr>\n",
       "      <th>0</th>\n",
       "      <td>8PRIUW9WCZK</td>\n",
       "      <td>Thanks for sharing.</td>\n",
       "      <td>5802</td>\n",
       "      <td>599609</td>\n",
       "      <td>4852</td>\n",
       "    </tr>\n",
       "    <tr>\n",
       "      <th>1</th>\n",
       "      <td>GQ6FK6J047N</td>\n",
       "      <td>Subscribed because of this!</td>\n",
       "      <td>3128</td>\n",
       "      <td>44615</td>\n",
       "      <td>501</td>\n",
       "    </tr>\n",
       "    <tr>\n",
       "      <th>2</th>\n",
       "      <td>3EC3E7D2DIV</td>\n",
       "      <td>I enjoyed watching this.</td>\n",
       "      <td>9342</td>\n",
       "      <td>427805</td>\n",
       "      <td>2215</td>\n",
       "    </tr>\n",
       "    <tr>\n",
       "      <th>3</th>\n",
       "      <td>LWWLLLZEDWX</td>\n",
       "      <td>I enjoyed watching this.</td>\n",
       "      <td>1117</td>\n",
       "      <td>625531</td>\n",
       "      <td>815</td>\n",
       "    </tr>\n",
       "    <tr>\n",
       "      <th>4</th>\n",
       "      <td>A2PWA7IIW1Z</td>\n",
       "      <td>I love this content!</td>\n",
       "      <td>8507</td>\n",
       "      <td>710475</td>\n",
       "      <td>1759</td>\n",
       "    </tr>\n",
       "  </tbody>\n",
       "</table>\n",
       "</div>"
      ],
      "text/plain": [
       "      video_id                      comment  likes   views  dislikes\n",
       "0  8PRIUW9WCZK          Thanks for sharing.   5802  599609      4852\n",
       "1  GQ6FK6J047N  Subscribed because of this!   3128   44615       501\n",
       "2  3EC3E7D2DIV     I enjoyed watching this.   9342  427805      2215\n",
       "3  LWWLLLZEDWX     I enjoyed watching this.   1117  625531       815\n",
       "4  A2PWA7IIW1Z         I love this content!   8507  710475      1759"
      ]
     },
     "execution_count": 10,
     "metadata": {},
     "output_type": "execute_result"
    }
   ],
   "source": [
    "df1.head()"
   ]
  },
  {
   "cell_type": "code",
   "execution_count": 11,
   "id": "3fbf8f1c-059b-4a87-8fcd-e0f5e618dc31",
   "metadata": {},
   "outputs": [],
   "source": [
    "content=['cooking', 'experiment', 'tutorial', 'tutorial', 'study', 'tutorial', 'dance', 'crafts', 'entertainment', 'cooking',\n",
    " 'study', 'art', 'entertainment', 'song', 'cooking', 'art', 'entertainment', 'study', 'crafts', 'entertainment',\n",
    " 'entertainment', 'tutorial', 'experiment', 'crafts', 'crafts', 'study', 'art', 'entertainment', 'entertainment', 'study',\n",
    " 'cooking', 'art', 'cooking', 'study', 'entertainment', 'cooking', 'tutorial', 'cooking', 'study', 'tutorial',\n",
    " 'crafts', 'crafts', 'dance', 'cooking', 'cooking', 'tutorial', 'crafts', 'experiment', 'dance', 'dance',\n",
    " 'art', 'art', 'cooking', 'study', 'entertainment', 'study', 'tutorial', 'art', 'entertainment', 'art',\n",
    " 'experiment', 'art', 'crafts', 'entertainment', 'dance', 'entertainment', 'entertainment', 'crafts', 'dance', 'experiment',\n",
    " 'cooking', 'tutorial', 'study', 'art', 'entertainment', 'crafts', 'entertainment', 'tutorial', 'entertainment', 'tutorial',\n",
    " 'art', 'art', 'study', 'study', 'experiment', 'crafts', 'entertainment', 'entertainment', 'art', 'cooking',\n",
    " 'cooking', 'art', 'dance', 'experiment', 'song', 'tutorial', 'tutorial', 'study', 'art', 'art']\n",
    "\n"
   ]
  },
  {
   "cell_type": "code",
   "execution_count": 13,
   "id": "d8a36242-319a-429c-8a72-a436d4d52615",
   "metadata": {},
   "outputs": [],
   "source": [
    "df1[\"Content\"]=content"
   ]
  },
  {
   "cell_type": "code",
   "execution_count": 14,
   "id": "adfb2c6f-a68f-4c1b-9912-91da8e7dbaef",
   "metadata": {},
   "outputs": [
    {
     "data": {
      "text/plain": [
       "Index(['video_id', 'comment', 'likes', 'views', 'dislikes', 'Content'], dtype='object')"
      ]
     },
     "execution_count": 14,
     "metadata": {},
     "output_type": "execute_result"
    }
   ],
   "source": [
    "df1.columns\n"
   ]
  },
  {
   "cell_type": "code",
   "execution_count": 21,
   "id": "398a1e4d-e436-4865-b56b-c1183ab2be38",
   "metadata": {},
   "outputs": [
    {
     "name": "stdout",
     "output_type": "stream",
     "text": [
      "[0.0, 0.0, 0.0, 0.0, 0.0, 0.0, 0.0, 0.0, 0.0, 0.0, 0.0, 0.0, 0.0, 0.0, 0.0, 0.0, 0.0, 0.0, 0.0, 0.0, 0.0, 0.0, 0.0, 0.0, 0.0, 0.0, 0.0, 0.0, 0.0, 0.0, 0.0, 0.0, 0.0, 0.0, 0.0, 0.0, 0.0, 0.0, 0.0, 0.0, 0.0, 0.0, 0.0, 0.0, 0.0, 0.0, 0.0, 0.0, 0.0, 0.0, 0.0, 0.0, 0.0, 0.0, 0.0, 0.0, 0.0, 0.0, 0.0, 0.0, 0.0, 0.0, 0.0, 0.0, 0.0, 0.0, 0.0, 0.0, 0.0, 0.0, 0.0, 0.0, 0.0, 0.0, 0.0, 0.0, 0.0, 0.0, 0.0, 0.0, 0.0, 0.0, 0.0, 0.0, 0.0, 0.0, 0.0, 0.0, 0.0, 0.0, 0.0, 0.0, 0.0, 0.0, 0.0, 0.0, 0.0, 0.0, 0.0, 0.0]\n"
     ]
    }
   ],
   "source": [
    "#TextBlob (Sentiment Analysis) Based:\n",
    "#Use TextBlob to calculate the sentiment polarity of each comment and store it in a new column.\n",
    "#12Count how many comments are classified as:Positive (polarity > 0)\n",
    "Polarity=[]\n",
    "for comm in df['comment']:\n",
    "    TextBlob(comm).sentiment.polarity\n",
    "    Polarity.append(TextBlob(comm).sentiment.polarity)\n",
    "\n",
    "print(Polarity)\n",
    "\n",
    "    \n"
   ]
  },
  {
   "cell_type": "code",
   "execution_count": 22,
   "id": "59e60d65-76f5-4bde-8a8a-fbfa9be1c178",
   "metadata": {},
   "outputs": [
    {
     "name": "stdout",
     "output_type": "stream",
     "text": [
      "[0.0, 0.0, 0.0, 0.0, 0.0, 0.0, 0.0, 0.0, 0.0, 0.0, 0.0, 0.0, 0.0, 0.0, 0.0, 0.0, 0.0, 0.0, 0.0, 0.0, 0.0, 0.0, 0.0, 0.0, 0.0, 0.0, 0.0, 0.0, 0.0, 0.0, 0.0, 0.0, 0.0, 0.0, 0.0, 0.0, 0.0, 0.0, 0.0, 0.0, 0.0, 0.0, 0.0, 0.0, 0.0, 0.0, 0.0, 0.0, 0.0, 0.0, 0.0, 0.0, 0.0, 0.0, 0.0, 0.0, 0.0, 0.0, 0.0, 0.0, 0.0, 0.0, 0.0, 0.0, 0.0, 0.0, 0.0, 0.0, 0.0, 0.0, 0.0, 0.0, 0.0, 0.0, 0.0, 0.0, 0.0, 0.0, 0.0, 0.0, 0.0, 0.0, 0.0, 0.0, 0.0, 0.0, 0.0, 0.0, 0.0, 0.0, 0.0, 0.0, 0.0, 0.0, 0.0, 0.0, 0.0, 0.0, 0.0, 0.0]\n"
     ]
    }
   ],
   "source": [
    "polarity=[]\n",
    "for comments in df[\"comment\"]:\n",
    "    TextBlob(comments).sentiment.polarity\n",
    "    polarity.append(TextBlob(comments).sentiment.polarity)\n",
    "\n",
    "print(polarity)"
   ]
  },
  {
   "cell_type": "code",
   "execution_count": null,
   "id": "0d77caa7-3fcb-42f5-82dd-a0fa8634bc6e",
   "metadata": {},
   "outputs": [],
   "source": []
  }
 ],
 "metadata": {
  "kernelspec": {
   "display_name": "Python 3 (ipykernel)",
   "language": "python",
   "name": "python3"
  },
  "language_info": {
   "codemirror_mode": {
    "name": "ipython",
    "version": 3
   },
   "file_extension": ".py",
   "mimetype": "text/x-python",
   "name": "python",
   "nbconvert_exporter": "python",
   "pygments_lexer": "ipython3",
   "version": "3.12.7"
  }
 },
 "nbformat": 4,
 "nbformat_minor": 5
}
